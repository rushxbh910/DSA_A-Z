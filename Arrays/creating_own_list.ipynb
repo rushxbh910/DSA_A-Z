{
 "cells": [
  {
   "cell_type": "markdown",
   "id": "121f02f3",
   "metadata": {},
   "source": [
    "List are Dynamic Arrays, and i will be making by own list by using this concept.\n",
    "\n",
    "1. Create List\n",
    "2. Len\n",
    "3. Append\n",
    "4. Print\n",
    "5. Indexing\n",
    "6. pop\n",
    "7. clear\n",
    "8. find\n",
    "9. insert\n",
    "10. Delete\n",
    "11. remove"
   ]
  },
  {
   "cell_type": "code",
   "execution_count": 42,
   "id": "2a160ef5",
   "metadata": {},
   "outputs": [
    {
     "name": "stdout",
     "output_type": "stream",
     "text": [
      "0 88\n",
      "1 88\n",
      "2 88\n",
      "3 88\n",
      "4 120\n",
      "5 120\n",
      "6 120\n",
      "7 120\n",
      "8 184\n",
      "9 184\n",
      "10 184\n",
      "11 184\n",
      "12 184\n",
      "13 184\n",
      "14 184\n",
      "15 184\n",
      "16 248\n",
      "17 248\n",
      "18 248\n",
      "19 248\n",
      "20 248\n",
      "21 248\n",
      "22 248\n",
      "23 248\n",
      "24 312\n",
      "25 312\n",
      "26 312\n",
      "27 312\n",
      "28 312\n",
      "29 312\n",
      "30 312\n",
      "31 312\n",
      "32 376\n",
      "33 376\n",
      "34 376\n",
      "35 376\n",
      "36 376\n",
      "37 376\n",
      "38 376\n",
      "39 376\n",
      "40 472\n",
      "41 472\n",
      "42 472\n",
      "43 472\n",
      "44 472\n",
      "45 472\n",
      "46 472\n",
      "47 472\n",
      "48 472\n",
      "49 472\n",
      "50 472\n",
      "51 472\n",
      "52 568\n",
      "53 568\n",
      "54 568\n",
      "55 568\n",
      "56 568\n",
      "57 568\n",
      "58 568\n",
      "59 568\n",
      "60 568\n",
      "61 568\n",
      "62 568\n",
      "63 568\n",
      "64 664\n",
      "65 664\n",
      "66 664\n",
      "67 664\n",
      "68 664\n",
      "69 664\n",
      "70 664\n",
      "71 664\n",
      "72 664\n",
      "73 664\n",
      "74 664\n",
      "75 664\n",
      "76 792\n",
      "77 792\n",
      "78 792\n",
      "79 792\n",
      "80 792\n",
      "81 792\n",
      "82 792\n",
      "83 792\n",
      "84 792\n",
      "85 792\n",
      "86 792\n",
      "87 792\n",
      "88 792\n",
      "89 792\n",
      "90 792\n",
      "91 792\n",
      "92 920\n",
      "93 920\n",
      "94 920\n",
      "95 920\n",
      "96 920\n",
      "97 920\n",
      "98 920\n",
      "99 920\n"
     ]
    }
   ],
   "source": [
    "# Proof that lists are dynamic arrays\n",
    "import sys\n",
    "\n",
    "L=[]\n",
    "\n",
    "for i in range(100):\n",
    "    L.append(i)\n",
    "    print(i, sys.getsizeof(L))"
   ]
  },
  {
   "cell_type": "markdown",
   "id": "1a500661",
   "metadata": {},
   "source": [
    "# Creating a list\n"
   ]
  },
  {
   "cell_type": "code",
   "execution_count": 43,
   "id": "dcba0303",
   "metadata": {},
   "outputs": [],
   "source": [
    "import ctypes"
   ]
  },
  {
   "cell_type": "code",
   "execution_count": 176,
   "id": "6e7136a3",
   "metadata": {},
   "outputs": [],
   "source": [
    "class mylist:\n",
    "    def __init__(self):\n",
    "        self.size=1 #size is the capacity of the array\n",
    "        self.n=0 # n is the number of elements in the array\n",
    "        #create c type array with size = self.size\n",
    "        self.A = self.__make_array(self.size)\n",
    "\n",
    "    #method to calculate number of elements in the array\n",
    "    def __len__(self):\n",
    "        return self.n\n",
    "    \n",
    "    # cretae a list\n",
    "    def __make_array(self,capacity): \n",
    "        #this code create a c type array with size capacity\n",
    "        return (capacity * ctypes.py_object)()\n",
    "    \n",
    "    # append function\n",
    "    def append(self,value):\n",
    "        if self.n == self.size:\n",
    "            self.resize(2*self.size)\n",
    "        #append\n",
    "        self.A[self.n]=value\n",
    "        self.n=self.n+1\n",
    "\n",
    "    def resize(self,new_capacity):\n",
    "        B = self.__make_array(new_capacity)\n",
    "        self.size = new_capacity\n",
    "        #copying elements of list A to list B\n",
    "        for i in range(self.n):\n",
    "            B[i] = self.A[i]\n",
    "        #resign A to B\n",
    "        self.A = B\n",
    "\n",
    "    #Print List\n",
    "    def __str__(self):\n",
    "        #ex-: [1,2,3]\n",
    "        result=''\n",
    "        for i in range(self.n):\n",
    "            result= result+ str(self.A[i]) + ','\n",
    "        return '['+result[:-1]+']'\n",
    "    \n",
    "    #printing index\n",
    "    def __getitem__(self,index):\n",
    "        if index<0 or index>=self.n:\n",
    "            raise IndexError('Index out of range')\n",
    "        else:\n",
    "            return self.A[index]\n",
    "        \n",
    "    #poping element from a list\n",
    "    def pop(self):\n",
    "        if self.n==0:\n",
    "            return 'Empty List'\n",
    "        else:\n",
    "            print(self.A[self.n-1])\n",
    "            self.n=self.n - 1\n",
    "\n",
    "    #Clear method\n",
    "    def clear(self):\n",
    "        self.size=1\n",
    "        self.n=0\n",
    "\n",
    "    #find method- will find the index of the value in the list\n",
    "    def find(self,value):\n",
    "        for i in range(self.n):\n",
    "            if self.A[i]==value:\n",
    "                return i\n",
    "        return 'Value not found'\n",
    "    \n",
    "    #inserting an element at a specific index\n",
    "    #step 1- check if theres an empty place in the list\n",
    "    #step 2- if its empty, then shift all the elements to the right and insert the element at the index\n",
    "    def insert(self,index,value):\n",
    "        if self.n==self.size:\n",
    "            self.resize(2*self.size)\n",
    "        for i in range(self.n,index+1,-1):\n",
    "            self.A[i]=self.A[i-1]\n",
    "        self.A[index]=value\n",
    "        self.n=self.n+1\n",
    "    \n",
    "    #deleting element at a specific index\n",
    "    #step 1- check if the index is valid\n",
    "    #step 2- if valid, then shift all the elements to the left and delete the element at the index\n",
    "    def __delitem__(self,index):\n",
    "        if index<0 or index>=self.n:\n",
    "            return 'Index out of range'\n",
    "        for i in range(index,self.n-1):\n",
    "            self.A[i]=self.A[i+1]\n",
    "        self.n=self.n-1\n",
    "\n",
    "    #remove method\n",
    "    # this will remove the first occurrence of the value in the list\n",
    "    def remove(self,value):\n",
    "        index=self.find(value)\n",
    "        if index=='Value not found':\n",
    "            return 'Value not found'\n",
    "        else:\n",
    "            self.__delitem__(index)"
   ]
  },
  {
   "cell_type": "code",
   "execution_count": 177,
   "id": "6bcb2465",
   "metadata": {},
   "outputs": [],
   "source": [
    "B=mylist() #creating a list"
   ]
  },
  {
   "cell_type": "code",
   "execution_count": 178,
   "id": "2c8d29a6",
   "metadata": {},
   "outputs": [
    {
     "data": {
      "text/plain": [
       "__main__.mylist"
      ]
     },
     "execution_count": 178,
     "metadata": {},
     "output_type": "execute_result"
    }
   ],
   "source": [
    "type(B)    # this will return <class '__main__.mylist'>, which is the class we created"
   ]
  },
  {
   "cell_type": "code",
   "execution_count": 179,
   "id": "eee3d06e",
   "metadata": {},
   "outputs": [
    {
     "data": {
      "text/plain": [
       "0"
      ]
     },
     "execution_count": 179,
     "metadata": {},
     "output_type": "execute_result"
    }
   ],
   "source": [
    "len(B) # this will return 0 as no elements are added yet"
   ]
  },
  {
   "cell_type": "code",
   "execution_count": 180,
   "id": "19ce1e43",
   "metadata": {},
   "outputs": [],
   "source": [
    "B.append(10) # this will add 10 to the list\n",
    "B.append(20)  # this will add 20 to the list\n",
    "B.append('hello') # this will add 'hello' to the list\n",
    "B.append(20.5) # this will add 20.5 to the list"
   ]
  },
  {
   "cell_type": "code",
   "execution_count": 181,
   "id": "ac9742e5",
   "metadata": {},
   "outputs": [
    {
     "data": {
      "text/plain": [
       "4"
      ]
     },
     "execution_count": 181,
     "metadata": {},
     "output_type": "execute_result"
    }
   ],
   "source": [
    "len(B) # this will return 4 as we have added 4 elements"
   ]
  },
  {
   "cell_type": "code",
   "execution_count": 103,
   "id": "10aea5ea",
   "metadata": {},
   "outputs": [
    {
     "name": "stdout",
     "output_type": "stream",
     "text": [
      "[10,20,hello,20.5]\n"
     ]
    }
   ],
   "source": [
    "print(B)"
   ]
  },
  {
   "cell_type": "code",
   "execution_count": 104,
   "id": "b8b96a08",
   "metadata": {},
   "outputs": [
    {
     "data": {
      "text/plain": [
       "10"
      ]
     },
     "execution_count": 104,
     "metadata": {},
     "output_type": "execute_result"
    }
   ],
   "source": [
    "B[0]"
   ]
  },
  {
   "cell_type": "code",
   "execution_count": 105,
   "id": "0ba55ebb",
   "metadata": {},
   "outputs": [
    {
     "name": "stdout",
     "output_type": "stream",
     "text": [
      "20.5\n"
     ]
    }
   ],
   "source": [
    "B.pop()"
   ]
  },
  {
   "cell_type": "code",
   "execution_count": 106,
   "id": "25ad3b78",
   "metadata": {},
   "outputs": [
    {
     "name": "stdout",
     "output_type": "stream",
     "text": [
      "[10,20,hello]\n"
     ]
    }
   ],
   "source": [
    "print(B) "
   ]
  },
  {
   "cell_type": "code",
   "execution_count": 107,
   "id": "e9b4ed5a",
   "metadata": {},
   "outputs": [
    {
     "name": "stdout",
     "output_type": "stream",
     "text": [
      "hello\n"
     ]
    }
   ],
   "source": [
    "B.pop()"
   ]
  },
  {
   "cell_type": "code",
   "execution_count": 108,
   "id": "729245c6",
   "metadata": {},
   "outputs": [
    {
     "name": "stdout",
     "output_type": "stream",
     "text": [
      "[10,20]\n"
     ]
    }
   ],
   "source": [
    "print(B) "
   ]
  },
  {
   "cell_type": "code",
   "execution_count": 109,
   "id": "844422f1",
   "metadata": {},
   "outputs": [
    {
     "name": "stdout",
     "output_type": "stream",
     "text": [
      "20\n"
     ]
    }
   ],
   "source": [
    "B.pop()"
   ]
  },
  {
   "cell_type": "code",
   "execution_count": 111,
   "id": "3a583486",
   "metadata": {},
   "outputs": [
    {
     "name": "stdout",
     "output_type": "stream",
     "text": [
      "10\n"
     ]
    }
   ],
   "source": [
    "B.pop()"
   ]
  },
  {
   "cell_type": "code",
   "execution_count": 112,
   "id": "d1e9308b",
   "metadata": {},
   "outputs": [
    {
     "name": "stdout",
     "output_type": "stream",
     "text": [
      "[]\n"
     ]
    }
   ],
   "source": [
    "print(B) #empty list"
   ]
  },
  {
   "cell_type": "code",
   "execution_count": null,
   "id": "6e15f5e3",
   "metadata": {},
   "outputs": [],
   "source": [
    "B.clear() # B.clear() will clear the list, making it empty"
   ]
  },
  {
   "cell_type": "code",
   "execution_count": 95,
   "id": "fc7d75dd",
   "metadata": {},
   "outputs": [
    {
     "name": "stdout",
     "output_type": "stream",
     "text": [
      "[]\n"
     ]
    }
   ],
   "source": [
    "print(B)"
   ]
  },
  {
   "cell_type": "code",
   "execution_count": null,
   "id": "8d9dbd89",
   "metadata": {},
   "outputs": [
    {
     "data": {
      "text/plain": [
       "1"
      ]
     },
     "execution_count": 118,
     "metadata": {},
     "output_type": "execute_result"
    }
   ],
   "source": [
    "B.find(20) # this will return 1 as 20 is at index 1"
   ]
  },
  {
   "cell_type": "code",
   "execution_count": 119,
   "id": "7e32d3e5",
   "metadata": {},
   "outputs": [
    {
     "data": {
      "text/plain": [
       "20"
      ]
     },
     "execution_count": 119,
     "metadata": {},
     "output_type": "execute_result"
    }
   ],
   "source": [
    "B[1]"
   ]
  },
  {
   "cell_type": "code",
   "execution_count": 121,
   "id": "c4debbdd",
   "metadata": {},
   "outputs": [
    {
     "name": "stdout",
     "output_type": "stream",
     "text": [
      "[10,20,hello,20.5]\n"
     ]
    }
   ],
   "source": [
    "print(B)"
   ]
  },
  {
   "cell_type": "code",
   "execution_count": 122,
   "id": "b6cad20a",
   "metadata": {},
   "outputs": [
    {
     "data": {
      "text/plain": [
       "'Value not found'"
      ]
     },
     "execution_count": 122,
     "metadata": {},
     "output_type": "execute_result"
    }
   ],
   "source": [
    "B.find(1000)"
   ]
  },
  {
   "cell_type": "code",
   "execution_count": 129,
   "id": "fe4a9ee0",
   "metadata": {},
   "outputs": [
    {
     "name": "stdout",
     "output_type": "stream",
     "text": [
      "[10,20,hello,20.5]\n"
     ]
    }
   ],
   "source": [
    "#insert method\n",
    "print(B)"
   ]
  },
  {
   "cell_type": "code",
   "execution_count": 130,
   "id": "3a4b1076",
   "metadata": {},
   "outputs": [],
   "source": [
    "B.insert(1,1000)"
   ]
  },
  {
   "cell_type": "code",
   "execution_count": 131,
   "id": "52ce144d",
   "metadata": {},
   "outputs": [
    {
     "data": {
      "text/plain": [
       "1000"
      ]
     },
     "execution_count": 131,
     "metadata": {},
     "output_type": "execute_result"
    }
   ],
   "source": [
    "B[1]"
   ]
  },
  {
   "cell_type": "code",
   "execution_count": 132,
   "id": "d0510024",
   "metadata": {},
   "outputs": [
    {
     "name": "stdout",
     "output_type": "stream",
     "text": [
      "[10,1000,hello,hello,20.5]\n"
     ]
    }
   ],
   "source": [
    "print(B)"
   ]
  },
  {
   "cell_type": "code",
   "execution_count": 133,
   "id": "15923a59",
   "metadata": {},
   "outputs": [
    {
     "data": {
      "text/plain": [
       "5"
      ]
     },
     "execution_count": 133,
     "metadata": {},
     "output_type": "execute_result"
    }
   ],
   "source": [
    "len(B)"
   ]
  },
  {
   "cell_type": "code",
   "execution_count": null,
   "id": "40ed6423",
   "metadata": {},
   "outputs": [],
   "source": [
    "B.insert(5,1)"
   ]
  },
  {
   "cell_type": "code",
   "execution_count": 135,
   "id": "19285785",
   "metadata": {},
   "outputs": [
    {
     "name": "stdout",
     "output_type": "stream",
     "text": [
      "[10,1000,hello,hello,20.5,1]\n"
     ]
    }
   ],
   "source": [
    "print(B)"
   ]
  },
  {
   "cell_type": "code",
   "execution_count": 136,
   "id": "454072a2",
   "metadata": {},
   "outputs": [
    {
     "data": {
      "text/plain": [
       "48"
      ]
     },
     "execution_count": 136,
     "metadata": {},
     "output_type": "execute_result"
    }
   ],
   "source": [
    "sys.getsizeof(B)"
   ]
  },
  {
   "cell_type": "code",
   "execution_count": 137,
   "id": "1e0f0d47",
   "metadata": {},
   "outputs": [],
   "source": [
    "B.insert(6,1)"
   ]
  },
  {
   "cell_type": "code",
   "execution_count": 139,
   "id": "ed5826e3",
   "metadata": {},
   "outputs": [
    {
     "name": "stdout",
     "output_type": "stream",
     "text": [
      "[10,1000,hello,hello,20.5,1,1]\n"
     ]
    }
   ],
   "source": [
    "print(B)"
   ]
  },
  {
   "cell_type": "code",
   "execution_count": 138,
   "id": "8228fab6",
   "metadata": {},
   "outputs": [
    {
     "data": {
      "text/plain": [
       "48"
      ]
     },
     "execution_count": 138,
     "metadata": {},
     "output_type": "execute_result"
    }
   ],
   "source": [
    "sys.getsizeof(B)"
   ]
  },
  {
   "cell_type": "code",
   "execution_count": 140,
   "id": "05f99408",
   "metadata": {},
   "outputs": [],
   "source": [
    "B.insert(7,1)"
   ]
  },
  {
   "cell_type": "code",
   "execution_count": 141,
   "id": "790c9107",
   "metadata": {},
   "outputs": [
    {
     "name": "stdout",
     "output_type": "stream",
     "text": [
      "[10,1000,hello,hello,20.5,1,1,1]\n"
     ]
    }
   ],
   "source": [
    "print(B)"
   ]
  },
  {
   "cell_type": "code",
   "execution_count": 142,
   "id": "c5dd1572",
   "metadata": {},
   "outputs": [
    {
     "data": {
      "text/plain": [
       "48"
      ]
     },
     "execution_count": 142,
     "metadata": {},
     "output_type": "execute_result"
    }
   ],
   "source": [
    "sys.getsizeof(B)"
   ]
  },
  {
   "cell_type": "code",
   "execution_count": 143,
   "id": "953801c0",
   "metadata": {},
   "outputs": [],
   "source": [
    "B.insert(8,'hello')"
   ]
  },
  {
   "cell_type": "code",
   "execution_count": 144,
   "id": "cc7c7483",
   "metadata": {},
   "outputs": [
    {
     "name": "stdout",
     "output_type": "stream",
     "text": [
      "[10,1000,hello,hello,20.5,1,1,1,hello]\n"
     ]
    }
   ],
   "source": [
    "print(B)"
   ]
  },
  {
   "cell_type": "code",
   "execution_count": 145,
   "id": "15196041",
   "metadata": {},
   "outputs": [
    {
     "data": {
      "text/plain": [
       "48"
      ]
     },
     "execution_count": 145,
     "metadata": {},
     "output_type": "execute_result"
    }
   ],
   "source": [
    "sys.getsizeof(B)"
   ]
  },
  {
   "cell_type": "code",
   "execution_count": 146,
   "id": "37e4b21c",
   "metadata": {},
   "outputs": [],
   "source": [
    "B.insert(9,'hello')"
   ]
  },
  {
   "cell_type": "code",
   "execution_count": 147,
   "id": "0966019d",
   "metadata": {},
   "outputs": [
    {
     "name": "stdout",
     "output_type": "stream",
     "text": [
      "[10,1000,hello,hello,20.5,1,1,1,hello,hello]\n"
     ]
    }
   ],
   "source": [
    "print(B)"
   ]
  },
  {
   "cell_type": "code",
   "execution_count": 148,
   "id": "139885a0",
   "metadata": {},
   "outputs": [
    {
     "data": {
      "text/plain": [
       "48"
      ]
     },
     "execution_count": 148,
     "metadata": {},
     "output_type": "execute_result"
    }
   ],
   "source": [
    "sys.getsizeof(B)  "
   ]
  },
  {
   "cell_type": "code",
   "execution_count": 149,
   "id": "e999702b",
   "metadata": {},
   "outputs": [],
   "source": [
    "B.insert(11,'hello')"
   ]
  },
  {
   "cell_type": "code",
   "execution_count": 151,
   "id": "81a36631",
   "metadata": {},
   "outputs": [],
   "source": [
    "B.clear()"
   ]
  },
  {
   "cell_type": "code",
   "execution_count": 152,
   "id": "62a5fbc0",
   "metadata": {},
   "outputs": [
    {
     "name": "stdout",
     "output_type": "stream",
     "text": [
      "[]\n"
     ]
    }
   ],
   "source": [
    "print(B)"
   ]
  },
  {
   "cell_type": "code",
   "execution_count": 173,
   "id": "68794dd5",
   "metadata": {},
   "outputs": [
    {
     "name": "stdout",
     "output_type": "stream",
     "text": [
      "[10,20,hello,20.5]\n",
      "[20,hello,20.5]\n"
     ]
    }
   ],
   "source": [
    "# Delete Method\n",
    "print(B)\n",
    "del(B[0])\n",
    "print(B)"
   ]
  },
  {
   "cell_type": "code",
   "execution_count": 183,
   "id": "fe569b5f",
   "metadata": {},
   "outputs": [
    {
     "name": "stdout",
     "output_type": "stream",
     "text": [
      "[10,20,hello,20.5]\n"
     ]
    }
   ],
   "source": [
    "print(B)"
   ]
  },
  {
   "cell_type": "code",
   "execution_count": 184,
   "id": "f19b90d1",
   "metadata": {},
   "outputs": [],
   "source": [
    "# remove method\n",
    "B.remove(20)"
   ]
  },
  {
   "cell_type": "code",
   "execution_count": 185,
   "id": "f231a99a",
   "metadata": {},
   "outputs": [
    {
     "name": "stdout",
     "output_type": "stream",
     "text": [
      "[10,hello,20.5]\n"
     ]
    }
   ],
   "source": [
    "print(B)"
   ]
  },
  {
   "cell_type": "code",
   "execution_count": null,
   "id": "21626e93",
   "metadata": {},
   "outputs": [],
   "source": []
  }
 ],
 "metadata": {
  "kernelspec": {
   "display_name": "Python 3",
   "language": "python",
   "name": "python3"
  },
  "language_info": {
   "codemirror_mode": {
    "name": "ipython",
    "version": 3
   },
   "file_extension": ".py",
   "mimetype": "text/x-python",
   "name": "python",
   "nbconvert_exporter": "python",
   "pygments_lexer": "ipython3",
   "version": "3.13.3"
  }
 },
 "nbformat": 4,
 "nbformat_minor": 5
}
