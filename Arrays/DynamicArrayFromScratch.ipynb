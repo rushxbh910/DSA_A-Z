{
 "cells": [
  {
   "cell_type": "markdown",
   "id": "121f02f3",
   "metadata": {},
   "source": [
    "List are Dynamic Arrays, and i will be making my own list/Dynamic Array by using this concept.\n",
    "\n",
    "1. Create List\n",
    "2. Len\n",
    "3. Append\n",
    "4. Print\n",
    "5. Indexing\n",
    "6. pop\n",
    "7. clear\n",
    "8. find\n",
    "9. insert\n",
    "10. Delete\n",
    "11. remove\n",
    "12. Slicing"
   ]
  },
  {
   "cell_type": "code",
   "execution_count": 40,
   "id": "2a160ef5",
   "metadata": {},
   "outputs": [
    {
     "name": "stdout",
     "output_type": "stream",
     "text": [
      "0 88\n",
      "1 88\n",
      "2 88\n",
      "3 88\n",
      "4 120\n",
      "5 120\n",
      "6 120\n",
      "7 120\n",
      "8 184\n",
      "9 184\n",
      "10 184\n",
      "11 184\n",
      "12 184\n",
      "13 184\n",
      "14 184\n",
      "15 184\n",
      "16 248\n",
      "17 248\n",
      "18 248\n",
      "19 248\n",
      "20 248\n",
      "21 248\n",
      "22 248\n",
      "23 248\n",
      "24 312\n",
      "25 312\n",
      "26 312\n",
      "27 312\n",
      "28 312\n",
      "29 312\n",
      "30 312\n",
      "31 312\n",
      "32 376\n",
      "33 376\n",
      "34 376\n",
      "35 376\n",
      "36 376\n",
      "37 376\n",
      "38 376\n",
      "39 376\n",
      "40 472\n",
      "41 472\n",
      "42 472\n",
      "43 472\n",
      "44 472\n",
      "45 472\n",
      "46 472\n",
      "47 472\n",
      "48 472\n",
      "49 472\n",
      "50 472\n",
      "51 472\n",
      "52 568\n",
      "53 568\n",
      "54 568\n",
      "55 568\n",
      "56 568\n",
      "57 568\n",
      "58 568\n",
      "59 568\n",
      "60 568\n",
      "61 568\n",
      "62 568\n",
      "63 568\n",
      "64 664\n",
      "65 664\n",
      "66 664\n",
      "67 664\n",
      "68 664\n",
      "69 664\n",
      "70 664\n",
      "71 664\n",
      "72 664\n",
      "73 664\n",
      "74 664\n",
      "75 664\n",
      "76 792\n",
      "77 792\n",
      "78 792\n",
      "79 792\n",
      "80 792\n",
      "81 792\n",
      "82 792\n",
      "83 792\n",
      "84 792\n",
      "85 792\n",
      "86 792\n",
      "87 792\n",
      "88 792\n",
      "89 792\n",
      "90 792\n",
      "91 792\n",
      "92 920\n",
      "93 920\n",
      "94 920\n",
      "95 920\n",
      "96 920\n",
      "97 920\n",
      "98 920\n",
      "99 920\n"
     ]
    }
   ],
   "source": [
    "# Proof that lists are dynamic arrays\n",
    "import sys\n",
    "\n",
    "L=[]\n",
    "\n",
    "for i in range(100):\n",
    "    L.append(i)\n",
    "    print(i, sys.getsizeof(L))"
   ]
  },
  {
   "cell_type": "markdown",
   "id": "1a500661",
   "metadata": {},
   "source": [
    "# Creating a list\n"
   ]
  },
  {
   "cell_type": "code",
   "execution_count": 41,
   "id": "dcba0303",
   "metadata": {},
   "outputs": [],
   "source": [
    "import ctypes"
   ]
  },
  {
   "cell_type": "code",
   "execution_count": null,
   "id": "6e7136a3",
   "metadata": {},
   "outputs": [],
   "source": [
    "class mylist:\n",
    "    def __init__(self):\n",
    "        self.size=1 #size is the capacity of the array\n",
    "        self.n=0 # n is the number of elements in the array\n",
    "        #create c type array with size = self.size\n",
    "        self.A = self.__make_array(self.size)\n",
    "\n",
    "    #method to calculate number of elements in the array\n",
    "    def __len__(self):\n",
    "        return self.n\n",
    "    \n",
    "    # cretae a list\n",
    "    def __make_array(self,capacity): \n",
    "        #this code create a c type array with size capacity\n",
    "        return (capacity * ctypes.py_object)()\n",
    "    \n",
    "    # append function\n",
    "    def append(self,value):\n",
    "        if self.n == self.size:\n",
    "            self.resize(2*self.size)\n",
    "        #append\n",
    "        self.A[self.n]=value\n",
    "        self.n=self.n+1\n",
    "\n",
    "    def resize(self,new_capacity):\n",
    "        B = self.__make_array(new_capacity)\n",
    "        self.size = new_capacity\n",
    "        #copying elements of list A to list B\n",
    "        for i in range(self.n):\n",
    "            B[i] = self.A[i]\n",
    "        #resign A to B\n",
    "        self.A = B\n",
    "\n",
    "    #Print List\n",
    "    def __str__(self):\n",
    "        #ex-: [1,2,3]\n",
    "        result=''\n",
    "        for i in range(self.n):\n",
    "            result= result+ str(self.A[i]) + ','\n",
    "        return '['+result[:-1]+']'\n",
    "    \n",
    "    #printing index\n",
    "    def __getitem__(self,index):\n",
    "        if index<0 or index>=self.n:\n",
    "            raise IndexError('Index out of range')\n",
    "        else:\n",
    "            return self.A[index]\n",
    "        \n",
    "    #poping element from a list\n",
    "    def pop(self):\n",
    "        if self.n==0:\n",
    "            return 'Empty List'\n",
    "        else:\n",
    "            print(self.A[self.n-1])\n",
    "            self.n=self.n - 1\n",
    "\n",
    "    #Clear method\n",
    "    def clear(self):\n",
    "        self.size=1\n",
    "        self.n=0\n",
    "\n",
    "    #find method- will find the index of the value in the list\n",
    "    def find(self,value):\n",
    "        for i in range(self.n):\n",
    "            if self.A[i]==value:\n",
    "                return i\n",
    "        return 'Value not found'\n",
    "    \n",
    "    #inserting an element at a specific index\n",
    "    #step 1- check if theres an empty place in the list\n",
    "    #step 2- if its empty, then shift all the elements to the right and insert the element at the index\n",
    "    def insert(self,index,value):\n",
    "        if self.n==self.size:\n",
    "            self.resize(2*self.size)\n",
    "        for i in range(self.n,index+1,-1):\n",
    "            self.A[i]=self.A[i-1]\n",
    "        self.A[index]=value\n",
    "        self.n=self.n+1\n",
    "    \n",
    "    #deleting element at a specific index\n",
    "    #step 1- check if the index is valid\n",
    "    #step 2- if valid, then shift all the elements to the left and delete the element at the index\n",
    "    def __delitem__(self,index):\n",
    "        if index<0 or index>=self.n:\n",
    "            return 'Index out of range'\n",
    "        for i in range(index,self.n-1):\n",
    "            self.A[i]=self.A[i+1]\n",
    "        self.n=self.n-1\n",
    "\n",
    "    #remove method\n",
    "    # this will remove the first occurrence of the value in the list\n",
    "    def remove(self,value):\n",
    "        index=self.find(value)\n",
    "        if index=='Value not found':\n",
    "            return 'Value not found'\n",
    "        else:\n",
    "            self.__delitem__(index)\n",
    "    \n",
    "    #slicing method\n",
    "    def slice(self,val1,val2,step=1):\n",
    "        if val1<0 or val2>self.n:\n",
    "            return 'invalid slicing'\n",
    "        for i in range(val1,val2,step):\n",
    "            print(f\"{self.A[i]},\")"
   ]
  },
  {
   "cell_type": "code",
   "execution_count": 43,
   "id": "6bcb2465",
   "metadata": {},
   "outputs": [],
   "source": [
    "B=mylist() #creating a list"
   ]
  },
  {
   "cell_type": "code",
   "execution_count": 44,
   "id": "2c8d29a6",
   "metadata": {},
   "outputs": [
    {
     "data": {
      "text/plain": [
       "__main__.mylist"
      ]
     },
     "execution_count": 44,
     "metadata": {},
     "output_type": "execute_result"
    }
   ],
   "source": [
    "type(B)    # this will return <class '__main__.mylist'>, which is the class we created"
   ]
  },
  {
   "cell_type": "code",
   "execution_count": 45,
   "id": "eee3d06e",
   "metadata": {},
   "outputs": [
    {
     "data": {
      "text/plain": [
       "0"
      ]
     },
     "execution_count": 45,
     "metadata": {},
     "output_type": "execute_result"
    }
   ],
   "source": [
    "len(B) # this will return 0 as no elements are added yet"
   ]
  },
  {
   "cell_type": "code",
   "execution_count": 46,
   "id": "19ce1e43",
   "metadata": {},
   "outputs": [],
   "source": [
    "B.append(10) # this will add 10 to the list\n",
    "B.append(20)  # this will add 20 to the list\n",
    "B.append('hello') # this will add 'hello' to the list\n",
    "B.append(20.5) # this will add 20.5 to the list"
   ]
  },
  {
   "cell_type": "code",
   "execution_count": 47,
   "id": "ac9742e5",
   "metadata": {},
   "outputs": [
    {
     "data": {
      "text/plain": [
       "4"
      ]
     },
     "execution_count": 47,
     "metadata": {},
     "output_type": "execute_result"
    }
   ],
   "source": [
    "len(B) # this will return 4 as we have added 4 elements"
   ]
  },
  {
   "cell_type": "code",
   "execution_count": 48,
   "id": "10aea5ea",
   "metadata": {},
   "outputs": [
    {
     "name": "stdout",
     "output_type": "stream",
     "text": [
      "[10,20,hello,20.5]\n"
     ]
    }
   ],
   "source": [
    "print(B)"
   ]
  },
  {
   "cell_type": "code",
   "execution_count": 49,
   "id": "b8b96a08",
   "metadata": {},
   "outputs": [
    {
     "data": {
      "text/plain": [
       "10"
      ]
     },
     "execution_count": 49,
     "metadata": {},
     "output_type": "execute_result"
    }
   ],
   "source": [
    "B[0]"
   ]
  },
  {
   "cell_type": "code",
   "execution_count": 50,
   "id": "0ba55ebb",
   "metadata": {},
   "outputs": [
    {
     "name": "stdout",
     "output_type": "stream",
     "text": [
      "20.5\n"
     ]
    }
   ],
   "source": [
    "B.pop()"
   ]
  },
  {
   "cell_type": "code",
   "execution_count": 51,
   "id": "25ad3b78",
   "metadata": {},
   "outputs": [
    {
     "name": "stdout",
     "output_type": "stream",
     "text": [
      "[10,20,hello]\n"
     ]
    }
   ],
   "source": [
    "print(B) "
   ]
  },
  {
   "cell_type": "code",
   "execution_count": 52,
   "id": "e9b4ed5a",
   "metadata": {},
   "outputs": [
    {
     "name": "stdout",
     "output_type": "stream",
     "text": [
      "hello\n"
     ]
    }
   ],
   "source": [
    "B.pop()"
   ]
  },
  {
   "cell_type": "code",
   "execution_count": 53,
   "id": "729245c6",
   "metadata": {},
   "outputs": [
    {
     "name": "stdout",
     "output_type": "stream",
     "text": [
      "[10,20]\n"
     ]
    }
   ],
   "source": [
    "print(B) "
   ]
  },
  {
   "cell_type": "code",
   "execution_count": 54,
   "id": "844422f1",
   "metadata": {},
   "outputs": [
    {
     "name": "stdout",
     "output_type": "stream",
     "text": [
      "20\n"
     ]
    }
   ],
   "source": [
    "B.pop()"
   ]
  },
  {
   "cell_type": "code",
   "execution_count": 55,
   "id": "3a583486",
   "metadata": {},
   "outputs": [
    {
     "name": "stdout",
     "output_type": "stream",
     "text": [
      "10\n"
     ]
    }
   ],
   "source": [
    "B.pop()"
   ]
  },
  {
   "cell_type": "code",
   "execution_count": 56,
   "id": "d1e9308b",
   "metadata": {},
   "outputs": [
    {
     "name": "stdout",
     "output_type": "stream",
     "text": [
      "[]\n"
     ]
    }
   ],
   "source": [
    "print(B) #empty list"
   ]
  },
  {
   "cell_type": "code",
   "execution_count": 57,
   "id": "6e15f5e3",
   "metadata": {},
   "outputs": [],
   "source": [
    "B.clear() # B.clear() will clear the list, making it empty"
   ]
  },
  {
   "cell_type": "code",
   "execution_count": 58,
   "id": "fc7d75dd",
   "metadata": {},
   "outputs": [
    {
     "name": "stdout",
     "output_type": "stream",
     "text": [
      "[]\n"
     ]
    }
   ],
   "source": [
    "print(B)"
   ]
  },
  {
   "cell_type": "code",
   "execution_count": 59,
   "id": "8d9dbd89",
   "metadata": {},
   "outputs": [
    {
     "data": {
      "text/plain": [
       "'Value not found'"
      ]
     },
     "execution_count": 59,
     "metadata": {},
     "output_type": "execute_result"
    }
   ],
   "source": [
    "B.find(20) # this will return 1 as 20 is at index 1"
   ]
  },
  {
   "cell_type": "code",
   "execution_count": 60,
   "id": "c4debbdd",
   "metadata": {},
   "outputs": [
    {
     "name": "stdout",
     "output_type": "stream",
     "text": [
      "[]\n"
     ]
    }
   ],
   "source": [
    "print(B)"
   ]
  },
  {
   "cell_type": "code",
   "execution_count": 61,
   "id": "b6cad20a",
   "metadata": {},
   "outputs": [
    {
     "data": {
      "text/plain": [
       "'Value not found'"
      ]
     },
     "execution_count": 61,
     "metadata": {},
     "output_type": "execute_result"
    }
   ],
   "source": [
    "B.find(1000)"
   ]
  },
  {
   "cell_type": "code",
   "execution_count": 62,
   "id": "fe4a9ee0",
   "metadata": {},
   "outputs": [
    {
     "name": "stdout",
     "output_type": "stream",
     "text": [
      "[]\n"
     ]
    }
   ],
   "source": [
    "#insert method\n",
    "print(B)"
   ]
  },
  {
   "cell_type": "code",
   "execution_count": 63,
   "id": "3a4b1076",
   "metadata": {},
   "outputs": [],
   "source": [
    "B.insert(1,1000)"
   ]
  },
  {
   "cell_type": "code",
   "execution_count": 65,
   "id": "d0510024",
   "metadata": {},
   "outputs": [
    {
     "name": "stdout",
     "output_type": "stream",
     "text": [
      "[10]\n"
     ]
    }
   ],
   "source": [
    "print(B)"
   ]
  },
  {
   "cell_type": "code",
   "execution_count": 66,
   "id": "15923a59",
   "metadata": {},
   "outputs": [
    {
     "data": {
      "text/plain": [
       "1"
      ]
     },
     "execution_count": 66,
     "metadata": {},
     "output_type": "execute_result"
    }
   ],
   "source": [
    "len(B)"
   ]
  },
  {
   "cell_type": "code",
   "execution_count": 68,
   "id": "19285785",
   "metadata": {},
   "outputs": [
    {
     "name": "stdout",
     "output_type": "stream",
     "text": [
      "[10]\n"
     ]
    }
   ],
   "source": [
    "print(B)"
   ]
  },
  {
   "cell_type": "code",
   "execution_count": 69,
   "id": "454072a2",
   "metadata": {},
   "outputs": [
    {
     "data": {
      "text/plain": [
       "48"
      ]
     },
     "execution_count": 69,
     "metadata": {},
     "output_type": "execute_result"
    }
   ],
   "source": [
    "sys.getsizeof(B)"
   ]
  },
  {
   "cell_type": "code",
   "execution_count": null,
   "id": "1e0f0d47",
   "metadata": {},
   "outputs": [],
   "source": [
    "B.insert(6,1)"
   ]
  },
  {
   "cell_type": "code",
   "execution_count": null,
   "id": "ed5826e3",
   "metadata": {},
   "outputs": [
    {
     "name": "stdout",
     "output_type": "stream",
     "text": [
      "[10,1000,hello,hello,20.5,1,1]\n"
     ]
    }
   ],
   "source": [
    "print(B)"
   ]
  },
  {
   "cell_type": "code",
   "execution_count": null,
   "id": "8228fab6",
   "metadata": {},
   "outputs": [
    {
     "data": {
      "text/plain": [
       "48"
      ]
     },
     "execution_count": 138,
     "metadata": {},
     "output_type": "execute_result"
    }
   ],
   "source": [
    "sys.getsizeof(B)"
   ]
  },
  {
   "cell_type": "code",
   "execution_count": null,
   "id": "05f99408",
   "metadata": {},
   "outputs": [],
   "source": [
    "B.insert(7,1)"
   ]
  },
  {
   "cell_type": "code",
   "execution_count": null,
   "id": "790c9107",
   "metadata": {},
   "outputs": [
    {
     "name": "stdout",
     "output_type": "stream",
     "text": [
      "[10,1000,hello,hello,20.5,1,1,1]\n"
     ]
    }
   ],
   "source": [
    "print(B)"
   ]
  },
  {
   "cell_type": "code",
   "execution_count": null,
   "id": "c5dd1572",
   "metadata": {},
   "outputs": [
    {
     "data": {
      "text/plain": [
       "48"
      ]
     },
     "execution_count": 142,
     "metadata": {},
     "output_type": "execute_result"
    }
   ],
   "source": [
    "sys.getsizeof(B)"
   ]
  },
  {
   "cell_type": "code",
   "execution_count": null,
   "id": "953801c0",
   "metadata": {},
   "outputs": [],
   "source": [
    "B.insert(8,'hello')"
   ]
  },
  {
   "cell_type": "code",
   "execution_count": null,
   "id": "cc7c7483",
   "metadata": {},
   "outputs": [
    {
     "name": "stdout",
     "output_type": "stream",
     "text": [
      "[10,1000,hello,hello,20.5,1,1,1,hello]\n"
     ]
    }
   ],
   "source": [
    "print(B)"
   ]
  },
  {
   "cell_type": "code",
   "execution_count": null,
   "id": "15196041",
   "metadata": {},
   "outputs": [
    {
     "data": {
      "text/plain": [
       "48"
      ]
     },
     "execution_count": 145,
     "metadata": {},
     "output_type": "execute_result"
    }
   ],
   "source": [
    "sys.getsizeof(B)"
   ]
  },
  {
   "cell_type": "code",
   "execution_count": null,
   "id": "37e4b21c",
   "metadata": {},
   "outputs": [],
   "source": [
    "B.insert(9,'hello')"
   ]
  },
  {
   "cell_type": "code",
   "execution_count": null,
   "id": "0966019d",
   "metadata": {},
   "outputs": [
    {
     "name": "stdout",
     "output_type": "stream",
     "text": [
      "[10,1000,hello,hello,20.5,1,1,1,hello,hello]\n"
     ]
    }
   ],
   "source": [
    "print(B)"
   ]
  },
  {
   "cell_type": "code",
   "execution_count": null,
   "id": "139885a0",
   "metadata": {},
   "outputs": [
    {
     "data": {
      "text/plain": [
       "48"
      ]
     },
     "execution_count": 148,
     "metadata": {},
     "output_type": "execute_result"
    }
   ],
   "source": [
    "sys.getsizeof(B)  "
   ]
  },
  {
   "cell_type": "code",
   "execution_count": null,
   "id": "e999702b",
   "metadata": {},
   "outputs": [],
   "source": [
    "B.insert(11,'hello')"
   ]
  },
  {
   "cell_type": "code",
   "execution_count": null,
   "id": "81a36631",
   "metadata": {},
   "outputs": [],
   "source": [
    "B.clear()"
   ]
  },
  {
   "cell_type": "code",
   "execution_count": null,
   "id": "62a5fbc0",
   "metadata": {},
   "outputs": [
    {
     "name": "stdout",
     "output_type": "stream",
     "text": [
      "[]\n"
     ]
    }
   ],
   "source": [
    "print(B)"
   ]
  },
  {
   "cell_type": "code",
   "execution_count": null,
   "id": "68794dd5",
   "metadata": {},
   "outputs": [
    {
     "name": "stdout",
     "output_type": "stream",
     "text": [
      "[10,20,hello,20.5]\n",
      "[20,hello,20.5]\n"
     ]
    }
   ],
   "source": [
    "# Delete Method\n",
    "print(B)\n",
    "del(B[0])\n",
    "print(B)"
   ]
  },
  {
   "cell_type": "code",
   "execution_count": null,
   "id": "fe569b5f",
   "metadata": {},
   "outputs": [
    {
     "name": "stdout",
     "output_type": "stream",
     "text": [
      "[10,20,hello,20.5]\n"
     ]
    }
   ],
   "source": [
    "print(B)"
   ]
  },
  {
   "cell_type": "code",
   "execution_count": null,
   "id": "f19b90d1",
   "metadata": {},
   "outputs": [],
   "source": [
    "# remove method\n",
    "B.remove(20)"
   ]
  },
  {
   "cell_type": "code",
   "execution_count": null,
   "id": "f231a99a",
   "metadata": {},
   "outputs": [
    {
     "name": "stdout",
     "output_type": "stream",
     "text": [
      "[10,hello,20.5]\n"
     ]
    }
   ],
   "source": [
    "print(B)"
   ]
  },
  {
   "cell_type": "code",
   "execution_count": null,
   "id": "21626e93",
   "metadata": {},
   "outputs": [
    {
     "data": {
      "text/plain": [
       "[10]"
      ]
     },
     "execution_count": 14,
     "metadata": {},
     "output_type": "execute_result"
    }
   ],
   "source": [
    "l=[1,2,3,4,5,6,7,8,9,10]\n",
    "\n",
    "l[9::]"
   ]
  },
  {
   "cell_type": "code",
   "execution_count": 70,
   "id": "ac461c48",
   "metadata": {},
   "outputs": [
    {
     "name": "stdout",
     "output_type": "stream",
     "text": [
      "[10]\n"
     ]
    }
   ],
   "source": [
    "print(B)"
   ]
  },
  {
   "cell_type": "code",
   "execution_count": 71,
   "id": "092853ff",
   "metadata": {},
   "outputs": [],
   "source": [
    "B.insert(0,100)"
   ]
  },
  {
   "cell_type": "code",
   "execution_count": 75,
   "id": "b4e0e736",
   "metadata": {},
   "outputs": [],
   "source": [
    "B.clear()"
   ]
  },
  {
   "cell_type": "code",
   "execution_count": 76,
   "id": "d4319e56",
   "metadata": {},
   "outputs": [
    {
     "name": "stdout",
     "output_type": "stream",
     "text": [
      "[]\n"
     ]
    }
   ],
   "source": [
    "print(B)"
   ]
  },
  {
   "cell_type": "code",
   "execution_count": 77,
   "id": "c3f8df7a",
   "metadata": {},
   "outputs": [],
   "source": [
    "B.append(200)"
   ]
  },
  {
   "cell_type": "code",
   "execution_count": 78,
   "id": "a66191ab",
   "metadata": {},
   "outputs": [],
   "source": [
    "B.append(300)"
   ]
  },
  {
   "cell_type": "code",
   "execution_count": 79,
   "id": "a9bf1544",
   "metadata": {},
   "outputs": [],
   "source": [
    "B.append(400)"
   ]
  },
  {
   "cell_type": "code",
   "execution_count": 81,
   "id": "ba2eb984",
   "metadata": {},
   "outputs": [
    {
     "name": "stdout",
     "output_type": "stream",
     "text": [
      "[200,300,400]\n"
     ]
    }
   ],
   "source": [
    "print(B)"
   ]
  },
  {
   "cell_type": "code",
   "execution_count": 85,
   "id": "585da779",
   "metadata": {},
   "outputs": [
    {
     "name": "stdout",
     "output_type": "stream",
     "text": [
      "200,\n",
      "300,\n",
      "400,\n"
     ]
    }
   ],
   "source": [
    "B.slice(0,3)"
   ]
  },
  {
   "cell_type": "code",
   "execution_count": null,
   "id": "6c2cdf1d",
   "metadata": {},
   "outputs": [],
   "source": []
  }
 ],
 "metadata": {
  "kernelspec": {
   "display_name": "Python 3",
   "language": "python",
   "name": "python3"
  },
  "language_info": {
   "codemirror_mode": {
    "name": "ipython",
    "version": 3
   },
   "file_extension": ".py",
   "mimetype": "text/x-python",
   "name": "python",
   "nbconvert_exporter": "python",
   "pygments_lexer": "ipython3",
   "version": "3.13.3"
  }
 },
 "nbformat": 4,
 "nbformat_minor": 5
}
