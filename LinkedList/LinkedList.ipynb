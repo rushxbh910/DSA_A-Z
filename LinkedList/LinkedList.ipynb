{
 "cells": [
  {
   "cell_type": "markdown",
   "id": "3cbefde7",
   "metadata": {},
   "source": [
    "### Linked List Class\n",
    "1. Create a Node Class\n",
    "2. Create a Linked List Class\n",
    "\n",
    "#### Inserting\n",
    "3. Insert from head\n",
    "4. traverse/print\n",
    "5. insert from tail (append)\n",
    "6. insert from middle (after)\n",
    "\n",
    "#### Deleting\n",
    "7. clear (delete all nodes)\n",
    "8. delete from head\n",
    "9. delete from tail (pop)\n",
    "10. delete by value (remove)\n",
    "11. delete by index (del L[0])\n",
    "\n",
    "#### Searching\n",
    "12. serch by value (find)\n",
    "13. search by index (indexing)\n"
   ]
  },
  {
   "cell_type": "code",
   "execution_count": 71,
   "id": "7ef3cace",
   "metadata": {},
   "outputs": [],
   "source": [
    "class node:\n",
    "    def __init__(self,value):\n",
    "        self.value=value\n",
    "        self.next=None"
   ]
  },
  {
   "cell_type": "code",
   "execution_count": 72,
   "id": "61da700d",
   "metadata": {},
   "outputs": [],
   "source": [
    "a=node(1) #creating a node a where value/data is 1 and next is none"
   ]
  },
  {
   "cell_type": "code",
   "execution_count": 73,
   "id": "dff5b0e3",
   "metadata": {},
   "outputs": [
    {
     "name": "stdout",
     "output_type": "stream",
     "text": [
      "<__main__.node object at 0x000001C866DFF770>\n",
      "1\n",
      "None\n"
     ]
    }
   ],
   "source": [
    "print(a) #will print the memory address of the node object\n",
    "print(a.value) #will print the value stored in the node\n",
    "print(a.next)   #will print the next pointer of the node whoch is currently none"
   ]
  },
  {
   "cell_type": "code",
   "execution_count": 74,
   "id": "70ccb230",
   "metadata": {},
   "outputs": [],
   "source": [
    "b=node(2) #creting a node b where value/data is 2 and next is none\n",
    "c=node(3) #creating a node c where value/data is 3 and next is none"
   ]
  },
  {
   "cell_type": "code",
   "execution_count": 75,
   "id": "a79cb8d5",
   "metadata": {},
   "outputs": [],
   "source": [
    "#now we have 3 nodes a,b,c which are not connected to each other\n",
    "#to connect them we will use the next pointer of the nodes\n",
    "a.next=b #now a is connected to b\n",
    "b.next=c #now b is connected to c"
   ]
  },
  {
   "cell_type": "code",
   "execution_count": 76,
   "id": "0a25529f",
   "metadata": {},
   "outputs": [
    {
     "name": "stdout",
     "output_type": "stream",
     "text": [
      "memory address of node b stored in a.next\n",
      "<__main__.node object at 0x000001C866E4A0D0>\n",
      "memory address of node c stored in b.next\n",
      "<__main__.node object at 0x000001C866E48550>\n"
     ]
    }
   ],
   "source": [
    "#visual representation of the linked list\n",
    "# a -> b -> c -> None\n",
    "\n",
    "print('memory address of node b stored in a.next')\n",
    "print(a.next) #will print the memory address of the node b)\n",
    "print('memory address of node c stored in b.next')\n",
    "print(b.next) #will print the memory address of the node c"
   ]
  },
  {
   "cell_type": "markdown",
   "id": "8f9628ca",
   "metadata": {},
   "source": [
    "#### We manually created a linked list with 3 nodes\n",
    "#### now we will create a linked list class which will have methods to \n",
    "    - insert \n",
    "    - delete \n",
    "    - search"
   ]
  },
  {
   "cell_type": "code",
   "execution_count": 77,
   "id": "781c8d8e",
   "metadata": {},
   "outputs": [],
   "source": [
    "class node:\n",
    "    def __init__(self,value):\n",
    "        self.value=value\n",
    "        self.next=None"
   ]
  },
  {
   "cell_type": "code",
   "execution_count": 111,
   "id": "edbe9fc6",
   "metadata": {},
   "outputs": [],
   "source": [
    "class LinkedList:\n",
    "    def __init__(self):\n",
    "        # Empty linked list\n",
    "        self.head=None\n",
    "        self.n=0 #number of nodes in the linked list\n",
    "    \n",
    "    def __len__(self):\n",
    "        return self.n\n",
    "    \n",
    "    def insert_head(self,value):\n",
    "        #new node\n",
    "        new_node=node(value)\n",
    "        #create connection with previous head\n",
    "        new_node.next=self.head\n",
    "        #update head to new node\n",
    "        self.head=new_node\n",
    "        #increment the number of nodes\n",
    "        self.n=self.n+1\n",
    "    \n",
    "    def traverse(self):\n",
    "        curr=self.head\n",
    "        for i in range(self.n):\n",
    "            print(f\"{curr.value}\",end='->')\n",
    "            curr=curr.next\n",
    "    \n",
    "    def insert_tail(self,value):\n",
    "        new_node=node(value)\n",
    "        if self.head is None:\n",
    "            self.head=new_node\n",
    "            self.n=self.n+1\n",
    "        else:\n",
    "            curr=self.head\n",
    "            while curr.next is not None:\n",
    "                curr=curr.next\n",
    "            curr.next=new_node\n",
    "            self.n=self.n+1\n",
    "    \n",
    "    def insert_in_middle(self,target,value):\n",
    "        new_node=node(value)\n",
    "        if self.n==1 or 0:\n",
    "            self.insert_tail(value)\n",
    "        else:\n",
    "            curr =self.head\n",
    "            extra=0\n",
    "            while curr.value!=target:\n",
    "                curr=curr.next\n",
    "                if curr.value==target:\n",
    "                    extra=1\n",
    "            if extra==0:\n",
    "                print(\"Target not found\")\n",
    "                return\n",
    "            else:\n",
    "                new_node.next=curr.next\n",
    "                curr.next=new_node\n",
    "                self.n=self.n+1\n"
   ]
  },
  {
   "cell_type": "code",
   "execution_count": 112,
   "id": "d0f98ca9",
   "metadata": {},
   "outputs": [],
   "source": [
    "L=LinkedList() #creating a linked list object"
   ]
  },
  {
   "cell_type": "code",
   "execution_count": 113,
   "id": "933a2f3a",
   "metadata": {},
   "outputs": [
    {
     "name": "stdout",
     "output_type": "stream",
     "text": [
      "<__main__.LinkedList object at 0x000001C86760C2F0>\n"
     ]
    }
   ],
   "source": [
    "print(L)"
   ]
  },
  {
   "cell_type": "code",
   "execution_count": 114,
   "id": "fbb4f4e4",
   "metadata": {},
   "outputs": [
    {
     "data": {
      "text/plain": [
       "0"
      ]
     },
     "execution_count": 114,
     "metadata": {},
     "output_type": "execute_result"
    }
   ],
   "source": [
    "len(L)"
   ]
  },
  {
   "cell_type": "markdown",
   "id": "1ba55e9c",
   "metadata": {},
   "source": [
    "#### Testing insertion at head"
   ]
  },
  {
   "cell_type": "code",
   "execution_count": 115,
   "id": "c7b58bb3",
   "metadata": {},
   "outputs": [],
   "source": [
    "L.insert_head(10)\n",
    "L.insert_head(20)\n",
    "L.insert_head(30)\n",
    "L.insert_head(40)"
   ]
  },
  {
   "cell_type": "code",
   "execution_count": 116,
   "id": "ce859f85",
   "metadata": {},
   "outputs": [
    {
     "data": {
      "text/plain": [
       "4"
      ]
     },
     "execution_count": 116,
     "metadata": {},
     "output_type": "execute_result"
    }
   ],
   "source": [
    "len(L)"
   ]
  },
  {
   "cell_type": "markdown",
   "id": "7f2e0f63",
   "metadata": {},
   "source": [
    "#### Traversing through the linked list\n",
    "10->20->30->40"
   ]
  },
  {
   "cell_type": "code",
   "execution_count": 84,
   "id": "33313e81",
   "metadata": {},
   "outputs": [
    {
     "name": "stdout",
     "output_type": "stream",
     "text": [
      "40->30->20->10->"
     ]
    }
   ],
   "source": [
    "L.traverse()"
   ]
  },
  {
   "cell_type": "markdown",
   "id": "16fa036e",
   "metadata": {},
   "source": [
    "##### Insert node at tail"
   ]
  },
  {
   "cell_type": "code",
   "execution_count": 86,
   "id": "54575558",
   "metadata": {},
   "outputs": [
    {
     "name": "stdout",
     "output_type": "stream",
     "text": [
      "40->30->20->10->"
     ]
    }
   ],
   "source": [
    "L.traverse()"
   ]
  },
  {
   "cell_type": "code",
   "execution_count": 87,
   "id": "e88c79d8",
   "metadata": {},
   "outputs": [],
   "source": [
    "L.insert_tail(50)"
   ]
  },
  {
   "cell_type": "code",
   "execution_count": 88,
   "id": "fd44ce6e",
   "metadata": {},
   "outputs": [
    {
     "name": "stdout",
     "output_type": "stream",
     "text": [
      "40->30->20->10->50->"
     ]
    }
   ],
   "source": [
    "L.traverse()"
   ]
  },
  {
   "cell_type": "code",
   "execution_count": 95,
   "id": "15d2a432",
   "metadata": {},
   "outputs": [],
   "source": [
    "L.insert_tail(60)"
   ]
  },
  {
   "cell_type": "code",
   "execution_count": 96,
   "id": "538b46da",
   "metadata": {},
   "outputs": [
    {
     "name": "stdout",
     "output_type": "stream",
     "text": [
      "40->30->20->10->50->60->"
     ]
    }
   ],
   "source": [
    "L.traverse()"
   ]
  },
  {
   "cell_type": "markdown",
   "id": "06eab89b",
   "metadata": {},
   "source": [
    "#### Insert in the middle"
   ]
  },
  {
   "cell_type": "code",
   "execution_count": 105,
   "id": "f11204ab",
   "metadata": {},
   "outputs": [],
   "source": [
    "L.insert_in_middle(20,999)"
   ]
  },
  {
   "cell_type": "code",
   "execution_count": 106,
   "id": "39015fc5",
   "metadata": {},
   "outputs": [
    {
     "name": "stdout",
     "output_type": "stream",
     "text": [
      "40->30->20->999->10->"
     ]
    }
   ],
   "source": [
    "L.traverse()"
   ]
  },
  {
   "cell_type": "code",
   "execution_count": 107,
   "id": "84ca8ab0",
   "metadata": {},
   "outputs": [],
   "source": [
    "L.insert_in_middle(20,99)"
   ]
  },
  {
   "cell_type": "code",
   "execution_count": 108,
   "id": "9cc51422",
   "metadata": {},
   "outputs": [
    {
     "name": "stdout",
     "output_type": "stream",
     "text": [
      "40->30->20->99->999->10->"
     ]
    }
   ],
   "source": [
    "L.traverse()"
   ]
  },
  {
   "cell_type": "code",
   "execution_count": 117,
   "id": "7a017f67",
   "metadata": {},
   "outputs": [
    {
     "name": "stdout",
     "output_type": "stream",
     "text": [
      "40->30->20->10->"
     ]
    }
   ],
   "source": [
    "L.traverse()"
   ]
  },
  {
   "cell_type": "code",
   "execution_count": 118,
   "id": "6a5d1610",
   "metadata": {},
   "outputs": [
    {
     "ename": "AttributeError",
     "evalue": "'NoneType' object has no attribute 'value'",
     "output_type": "error",
     "traceback": [
      "\u001b[31m---------------------------------------------------------------------------\u001b[39m",
      "\u001b[31mAttributeError\u001b[39m                            Traceback (most recent call last)",
      "\u001b[36mCell\u001b[39m\u001b[36m \u001b[39m\u001b[32mIn[118]\u001b[39m\u001b[32m, line 1\u001b[39m\n\u001b[32m----> \u001b[39m\u001b[32m1\u001b[39m \u001b[43mL\u001b[49m\u001b[43m.\u001b[49m\u001b[43minsert_in_middle\u001b[49m\u001b[43m(\u001b[49m\u001b[32;43m1000\u001b[39;49m\u001b[43m,\u001b[49m\u001b[32;43m35\u001b[39;49m\u001b[43m)\u001b[49m\n",
      "\u001b[36mCell\u001b[39m\u001b[36m \u001b[39m\u001b[32mIn[111]\u001b[39m\u001b[32m, line 47\u001b[39m, in \u001b[36mLinkedList.insert_in_middle\u001b[39m\u001b[34m(self, target, value)\u001b[39m\n\u001b[32m     45\u001b[39m \u001b[38;5;28;01mwhile\u001b[39;00m curr.value!=target:\n\u001b[32m     46\u001b[39m     curr=curr.next\n\u001b[32m---> \u001b[39m\u001b[32m47\u001b[39m     \u001b[38;5;28;01mif\u001b[39;00m \u001b[43mcurr\u001b[49m\u001b[43m.\u001b[49m\u001b[43mvalue\u001b[49m==target:\n\u001b[32m     48\u001b[39m         extra=\u001b[32m1\u001b[39m\n\u001b[32m     49\u001b[39m \u001b[38;5;28;01mif\u001b[39;00m extra==\u001b[32m0\u001b[39m:\n",
      "\u001b[31mAttributeError\u001b[39m: 'NoneType' object has no attribute 'value'"
     ]
    }
   ],
   "source": [
    "L.insert_in_middle(1000,35)"
   ]
  },
  {
   "cell_type": "code",
   "execution_count": null,
   "id": "cfc00c6b",
   "metadata": {},
   "outputs": [],
   "source": []
  }
 ],
 "metadata": {
  "kernelspec": {
   "display_name": "Python 3",
   "language": "python",
   "name": "python3"
  },
  "language_info": {
   "codemirror_mode": {
    "name": "ipython",
    "version": 3
   },
   "file_extension": ".py",
   "mimetype": "text/x-python",
   "name": "python",
   "nbconvert_exporter": "python",
   "pygments_lexer": "ipython3",
   "version": "3.13.3"
  }
 },
 "nbformat": 4,
 "nbformat_minor": 5
}
