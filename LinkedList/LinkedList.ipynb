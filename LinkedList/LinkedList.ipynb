{
 "cells": [
  {
   "cell_type": "markdown",
   "id": "3cbefde7",
   "metadata": {},
   "source": [
    "### Linked List Class\n",
    "1. Create a Node Class\n",
    "2. Create a Linked List Class\n",
    "\n",
    "#### Inserting\n",
    "3. Insert from head\n",
    "4. traverse/print\n",
    "5. insert from tail (append)\n",
    "6. insert from middle (after)\n",
    "\n",
    "#### Deleting\n",
    "7. clear (delete all nodes)\n",
    "8. delete from head\n",
    "9. delete from tail (pop)\n",
    "10. delete by value (remove)\n",
    "11. delete by index (del L[0])\n",
    "\n",
    "#### Searching\n",
    "12. serch by value (find)\n",
    "13. search by index (indexing)\n"
   ]
  },
  {
   "cell_type": "code",
   "execution_count": 71,
   "id": "7ef3cace",
   "metadata": {},
   "outputs": [],
   "source": [
    "class node:\n",
    "    def __init__(self,value):\n",
    "        self.value=value\n",
    "        self.next=None"
   ]
  },
  {
   "cell_type": "code",
   "execution_count": 72,
   "id": "61da700d",
   "metadata": {},
   "outputs": [],
   "source": [
    "a=node(1) #creating a node a where value/data is 1 and next is none"
   ]
  },
  {
   "cell_type": "code",
   "execution_count": 73,
   "id": "dff5b0e3",
   "metadata": {},
   "outputs": [
    {
     "name": "stdout",
     "output_type": "stream",
     "text": [
      "<__main__.node object at 0x000001C866DFF770>\n",
      "1\n",
      "None\n"
     ]
    }
   ],
   "source": [
    "print(a) #will print the memory address of the node object\n",
    "print(a.value) #will print the value stored in the node\n",
    "print(a.next)   #will print the next pointer of the node whoch is currently none"
   ]
  },
  {
   "cell_type": "code",
   "execution_count": 74,
   "id": "70ccb230",
   "metadata": {},
   "outputs": [],
   "source": [
    "b=node(2) #creting a node b where value/data is 2 and next is none\n",
    "c=node(3) #creating a node c where value/data is 3 and next is none"
   ]
  },
  {
   "cell_type": "code",
   "execution_count": 75,
   "id": "a79cb8d5",
   "metadata": {},
   "outputs": [],
   "source": [
    "#now we have 3 nodes a,b,c which are not connected to each other\n",
    "#to connect them we will use the next pointer of the nodes\n",
    "a.next=b #now a is connected to b\n",
    "b.next=c #now b is connected to c"
   ]
  },
  {
   "cell_type": "code",
   "execution_count": 76,
   "id": "0a25529f",
   "metadata": {},
   "outputs": [
    {
     "name": "stdout",
     "output_type": "stream",
     "text": [
      "memory address of node b stored in a.next\n",
      "<__main__.node object at 0x000001C866E4A0D0>\n",
      "memory address of node c stored in b.next\n",
      "<__main__.node object at 0x000001C866E48550>\n"
     ]
    }
   ],
   "source": [
    "#visual representation of the linked list\n",
    "# a -> b -> c -> None\n",
    "\n",
    "print('memory address of node b stored in a.next')\n",
    "print(a.next) #will print the memory address of the node b)\n",
    "print('memory address of node c stored in b.next')\n",
    "print(b.next) #will print the memory address of the node c"
   ]
  },
  {
   "cell_type": "markdown",
   "id": "8f9628ca",
   "metadata": {},
   "source": [
    "#### We manually created a linked list with 3 nodes\n",
    "#### now we will create a linked list class which will have methods to \n",
    "    - insert \n",
    "    - delete \n",
    "    - search"
   ]
  },
  {
   "cell_type": "code",
   "execution_count": 6,
   "id": "781c8d8e",
   "metadata": {},
   "outputs": [],
   "source": [
    "class node:\n",
    "    def __init__(self,value):\n",
    "        self.value=value\n",
    "        self.next=None"
   ]
  },
  {
   "cell_type": "code",
   "execution_count": null,
   "id": "edbe9fc6",
   "metadata": {},
   "outputs": [],
   "source": [
    "class LinkedList:\n",
    "    def __init__(self):\n",
    "        # Empty linked list\n",
    "        self.head=None\n",
    "        self.n=0 #number of nodes in the linked list\n",
    "    \n",
    "    def __len__(self):\n",
    "        return self.n\n",
    "    \n",
    "    def insert_head(self,value):\n",
    "        #new node\n",
    "        new_node=node(value)\n",
    "        #create connection with previous head\n",
    "        new_node.next=self.head\n",
    "        #update head to new node\n",
    "        self.head=new_node\n",
    "        #increment the number of nodes\n",
    "        self.n=self.n+1\n",
    "    \n",
    "    def traverse(self):\n",
    "        curr=self.head\n",
    "        for i in range(self.n):\n",
    "            print(f\"{curr.value}\",end='->')\n",
    "            curr=curr.next\n",
    "    \n",
    "    def insert_tail(self,value):\n",
    "        new_node=node(value)\n",
    "        if self.head is None:\n",
    "            self.head=new_node\n",
    "            self.n=self.n+1\n",
    "        else:\n",
    "            curr=self.head\n",
    "            while curr.next is not None:\n",
    "                curr=curr.next\n",
    "            curr.next=new_node\n",
    "            self.n=self.n+1\n",
    "    \n",
    "    def insert_in_middle(self,target,value):\n",
    "        new_node=node(value)\n",
    "        curr =self.head\n",
    "        while curr != None: # VERY IMPORTANT curr!= None makes us stop at the value we want to insert after and curr.next != None makes us stop at the value before the value we want to insert after\n",
    "                if curr.value==target:\n",
    "                    new_node.next=curr.next\n",
    "                    curr.next=new_node\n",
    "                    self.n=self.n+1\n",
    "                    return\n",
    "                curr=curr.next\n",
    "        print(f\"Node with value {target} not found in the Linkedlist.\")\n",
    "\n",
    "    def clear(self):\n",
    "        self.head=None\n",
    "        self.n=0\n",
    "\n",
    "    def delete_from_head(self):\n",
    "        if self.head is None:\n",
    "            print(\"Linkedlist is empty. Cannot delete from head.\")\n",
    "            return\n",
    "        else:\n",
    "            self.head=self.head.next\n",
    "            self.n=self.n-1\n",
    "\n",
    "    def delete_from_tail(self):\n",
    "        if self.head==None: #Condition if theres no node in the LinkedList\n",
    "            print(\"Linkedlist is empty. Cannot delete from tail.\")\n",
    "            return\n",
    "        elif self.head.next is None: #Condition if theres one node in the LinkedList\n",
    "            self.head=None\n",
    "            self.n=self.n-1\n",
    "            return\n",
    "        else: #Condition if theres more than one node in the LinkedList. we traverse to the second last node and make its next pointer None\n",
    "            curr=self.head\n",
    "            while(curr.next.next!= None):\n",
    "                curr=curr.next\n",
    "            curr.next=None\n",
    "            self.n=self.n-1\n",
    "            return\n",
    "        \n",
    "    def delete_by_value(self,value):\n",
    "        if self.head is None:\n",
    "            print(\"Linkedlist is empty. Cannot delete by value.\")\n",
    "            return\n",
    "        elif self.head.value==value:\n",
    "            self.head=self.head.next\n",
    "            self.n=self.n-1\n",
    "            return\n",
    "        else:\n",
    "            curr=self.head\n",
    "            while curr.next != None: \n",
    "                if curr.next.value==value:\n",
    "                    curr.next=curr.next.next\n",
    "                    self.n=self.n-1\n",
    "                    return\n",
    "                curr=curr.next \n",
    "            print(f\"Node with value {value} not found in the Linkedlist.\")\n",
    "\n",
    "    def search(self,value):\n",
    "        curr=self.head\n",
    "        index=0\n",
    "        if curr is None:\n",
    "            print(\"Linkedlist is empty. Cannot search for value.\")\n",
    "        elif curr.next==None:\n",
    "            if curr.value==value:\n",
    "                return str(index) + ' index'\n",
    "            else:\n",
    "                print(f\"Node with value {value} not found in the Linkedlist.\")\n",
    "        else:\n",
    "            while curr.next!=None:\n",
    "                if curr.value==value:\n",
    "                    return str(index) + ' index'\n",
    "                curr=curr.next\n",
    "                index=index+1\n",
    "            print(f\"Node with value {value} not found in the Linkedlist.\")\n",
    "\n",
    "    "
   ]
  },
  {
   "cell_type": "code",
   "execution_count": 45,
   "id": "d0f98ca9",
   "metadata": {},
   "outputs": [],
   "source": [
    "L=LinkedList() #creating a linked list object"
   ]
  },
  {
   "cell_type": "code",
   "execution_count": 46,
   "id": "933a2f3a",
   "metadata": {},
   "outputs": [
    {
     "name": "stdout",
     "output_type": "stream",
     "text": [
      "<__main__.LinkedList object at 0x000001CBFB9B3380>\n"
     ]
    }
   ],
   "source": [
    "print(L)"
   ]
  },
  {
   "cell_type": "code",
   "execution_count": 47,
   "id": "fbb4f4e4",
   "metadata": {},
   "outputs": [
    {
     "data": {
      "text/plain": [
       "0"
      ]
     },
     "execution_count": 47,
     "metadata": {},
     "output_type": "execute_result"
    }
   ],
   "source": [
    "len(L)"
   ]
  },
  {
   "cell_type": "markdown",
   "id": "1ba55e9c",
   "metadata": {},
   "source": [
    "#### Testing insertion at head"
   ]
  },
  {
   "cell_type": "code",
   "execution_count": 48,
   "id": "c7b58bb3",
   "metadata": {},
   "outputs": [],
   "source": [
    "L.insert_head(10)\n",
    "L.insert_head(20)\n",
    "L.insert_head(30)\n",
    "L.insert_head(40)"
   ]
  },
  {
   "cell_type": "code",
   "execution_count": 49,
   "id": "ce859f85",
   "metadata": {},
   "outputs": [
    {
     "data": {
      "text/plain": [
       "4"
      ]
     },
     "execution_count": 49,
     "metadata": {},
     "output_type": "execute_result"
    }
   ],
   "source": [
    "len(L)"
   ]
  },
  {
   "cell_type": "markdown",
   "id": "7f2e0f63",
   "metadata": {},
   "source": [
    "#### Traversing through the linked list\n",
    "10->20->30->40"
   ]
  },
  {
   "cell_type": "code",
   "execution_count": 84,
   "id": "33313e81",
   "metadata": {},
   "outputs": [
    {
     "name": "stdout",
     "output_type": "stream",
     "text": [
      "40->30->20->10->"
     ]
    }
   ],
   "source": [
    "L.traverse()"
   ]
  },
  {
   "cell_type": "markdown",
   "id": "16fa036e",
   "metadata": {},
   "source": [
    "##### Insert node at tail"
   ]
  },
  {
   "cell_type": "code",
   "execution_count": 86,
   "id": "54575558",
   "metadata": {},
   "outputs": [
    {
     "name": "stdout",
     "output_type": "stream",
     "text": [
      "40->30->20->10->"
     ]
    }
   ],
   "source": [
    "L.traverse()"
   ]
  },
  {
   "cell_type": "code",
   "execution_count": 87,
   "id": "e88c79d8",
   "metadata": {},
   "outputs": [],
   "source": [
    "L.insert_tail(50)"
   ]
  },
  {
   "cell_type": "code",
   "execution_count": 88,
   "id": "fd44ce6e",
   "metadata": {},
   "outputs": [
    {
     "name": "stdout",
     "output_type": "stream",
     "text": [
      "40->30->20->10->50->"
     ]
    }
   ],
   "source": [
    "L.traverse()"
   ]
  },
  {
   "cell_type": "code",
   "execution_count": 95,
   "id": "15d2a432",
   "metadata": {},
   "outputs": [],
   "source": [
    "L.insert_tail(60)"
   ]
  },
  {
   "cell_type": "code",
   "execution_count": 96,
   "id": "538b46da",
   "metadata": {},
   "outputs": [
    {
     "name": "stdout",
     "output_type": "stream",
     "text": [
      "40->30->20->10->50->60->"
     ]
    }
   ],
   "source": [
    "L.traverse()"
   ]
  },
  {
   "cell_type": "markdown",
   "id": "06eab89b",
   "metadata": {},
   "source": [
    "#### Insert in the middle"
   ]
  },
  {
   "cell_type": "code",
   "execution_count": 14,
   "id": "f11204ab",
   "metadata": {},
   "outputs": [],
   "source": [
    "L.insert_in_middle(20,999)"
   ]
  },
  {
   "cell_type": "code",
   "execution_count": 15,
   "id": "39015fc5",
   "metadata": {},
   "outputs": [
    {
     "name": "stdout",
     "output_type": "stream",
     "text": [
      "40->30->20->999->10->"
     ]
    }
   ],
   "source": [
    "L.traverse()"
   ]
  },
  {
   "cell_type": "code",
   "execution_count": 16,
   "id": "84ca8ab0",
   "metadata": {},
   "outputs": [],
   "source": [
    "L.insert_in_middle(20,99)"
   ]
  },
  {
   "cell_type": "code",
   "execution_count": 17,
   "id": "9cc51422",
   "metadata": {},
   "outputs": [
    {
     "name": "stdout",
     "output_type": "stream",
     "text": [
      "40->30->20->99->999->10->"
     ]
    }
   ],
   "source": [
    "L.traverse()"
   ]
  },
  {
   "cell_type": "code",
   "execution_count": 19,
   "id": "6a5d1610",
   "metadata": {},
   "outputs": [
    {
     "name": "stdout",
     "output_type": "stream",
     "text": [
      "Node with value 1000 not found in the Linkedlist.\n"
     ]
    }
   ],
   "source": [
    "L.insert_in_middle(1000,35)"
   ]
  },
  {
   "cell_type": "code",
   "execution_count": 34,
   "id": "cfc00c6b",
   "metadata": {},
   "outputs": [],
   "source": [
    "L.insert_in_middle(40,1000)"
   ]
  },
  {
   "cell_type": "code",
   "execution_count": 35,
   "id": "9b5c2f3f",
   "metadata": {},
   "outputs": [
    {
     "name": "stdout",
     "output_type": "stream",
     "text": [
      "40->1000->30->20->10->"
     ]
    }
   ],
   "source": [
    "L.traverse()"
   ]
  },
  {
   "cell_type": "markdown",
   "id": "3b89b2fb",
   "metadata": {},
   "source": [
    "### Deleting from linked list- \n",
    "#### Clear method"
   ]
  },
  {
   "cell_type": "code",
   "execution_count": 44,
   "id": "d096ec27",
   "metadata": {},
   "outputs": [
    {
     "name": "stdout",
     "output_type": "stream",
     "text": [
      "40->30->20->10->"
     ]
    }
   ],
   "source": [
    "L.traverse()"
   ]
  },
  {
   "cell_type": "code",
   "execution_count": 45,
   "id": "0e774835",
   "metadata": {},
   "outputs": [],
   "source": [
    "L.clear()"
   ]
  },
  {
   "cell_type": "code",
   "execution_count": 48,
   "id": "4a932d09",
   "metadata": {},
   "outputs": [],
   "source": [
    "L.traverse() # It should not print anything as the linked list is cleared"
   ]
  },
  {
   "cell_type": "code",
   "execution_count": 49,
   "id": "50426ca9",
   "metadata": {},
   "outputs": [
    {
     "data": {
      "text/plain": [
       "0"
      ]
     },
     "execution_count": 49,
     "metadata": {},
     "output_type": "execute_result"
    }
   ],
   "source": [
    "len(L)"
   ]
  },
  {
   "cell_type": "markdown",
   "id": "5c4456e5",
   "metadata": {},
   "source": [
    "#### Delete from Head"
   ]
  },
  {
   "cell_type": "code",
   "execution_count": 72,
   "id": "1f3ec55f",
   "metadata": {},
   "outputs": [
    {
     "name": "stdout",
     "output_type": "stream",
     "text": [
      "40->30->20->10->"
     ]
    }
   ],
   "source": [
    "L.traverse()"
   ]
  },
  {
   "cell_type": "code",
   "execution_count": 73,
   "id": "5c691be7",
   "metadata": {},
   "outputs": [],
   "source": [
    "L.delete_from_head() # This will delete the head node which is 40"
   ]
  },
  {
   "cell_type": "code",
   "execution_count": 74,
   "id": "97754798",
   "metadata": {},
   "outputs": [
    {
     "name": "stdout",
     "output_type": "stream",
     "text": [
      "30->20->10->"
     ]
    }
   ],
   "source": [
    "L.traverse()"
   ]
  },
  {
   "cell_type": "markdown",
   "id": "2dba6493",
   "metadata": {},
   "source": [
    "#### Delete from tail"
   ]
  },
  {
   "cell_type": "code",
   "execution_count": 107,
   "id": "07b7c62f",
   "metadata": {},
   "outputs": [
    {
     "name": "stdout",
     "output_type": "stream",
     "text": [
      "40->30->20->10->"
     ]
    }
   ],
   "source": [
    "L.traverse()"
   ]
  },
  {
   "cell_type": "code",
   "execution_count": 108,
   "id": "7d905aef",
   "metadata": {},
   "outputs": [],
   "source": [
    "L.delete_from_tail()"
   ]
  },
  {
   "cell_type": "code",
   "execution_count": 109,
   "id": "cf045333",
   "metadata": {},
   "outputs": [
    {
     "name": "stdout",
     "output_type": "stream",
     "text": [
      "40->30->20->"
     ]
    }
   ],
   "source": [
    "L.traverse()"
   ]
  },
  {
   "cell_type": "markdown",
   "id": "d90a4ec4",
   "metadata": {},
   "source": [
    "#### Deleting by value"
   ]
  },
  {
   "cell_type": "code",
   "execution_count": 12,
   "id": "66fa2c4e",
   "metadata": {},
   "outputs": [
    {
     "name": "stdout",
     "output_type": "stream",
     "text": [
      "40->30->20->10->"
     ]
    }
   ],
   "source": [
    "L.traverse()"
   ]
  },
  {
   "cell_type": "code",
   "execution_count": 13,
   "id": "eeb2afb3",
   "metadata": {},
   "outputs": [],
   "source": [
    "L.delete_by_value(10)"
   ]
  },
  {
   "cell_type": "code",
   "execution_count": 155,
   "id": "9806a6bf",
   "metadata": {},
   "outputs": [],
   "source": [
    "L.delete_by_value(20)"
   ]
  },
  {
   "cell_type": "code",
   "execution_count": 14,
   "id": "acfddccb",
   "metadata": {},
   "outputs": [
    {
     "name": "stdout",
     "output_type": "stream",
     "text": [
      "40->30->20->"
     ]
    }
   ],
   "source": [
    "L.traverse()"
   ]
  },
  {
   "cell_type": "code",
   "execution_count": 151,
   "id": "e1cf5cd5",
   "metadata": {},
   "outputs": [],
   "source": [
    "L.delete_from_tail()"
   ]
  },
  {
   "cell_type": "code",
   "execution_count": 162,
   "id": "22f228e7",
   "metadata": {},
   "outputs": [],
   "source": [
    "L.traverse()"
   ]
  },
  {
   "cell_type": "code",
   "execution_count": 161,
   "id": "f191904b",
   "metadata": {},
   "outputs": [],
   "source": [
    "L.delete_by_value(10)"
   ]
  },
  {
   "cell_type": "markdown",
   "id": "b0f77bd2",
   "metadata": {},
   "source": [
    "Search By value"
   ]
  },
  {
   "cell_type": "code",
   "execution_count": 50,
   "id": "f988dd69",
   "metadata": {},
   "outputs": [
    {
     "name": "stdout",
     "output_type": "stream",
     "text": [
      "40->30->20->10->"
     ]
    }
   ],
   "source": [
    "L.traverse()"
   ]
  },
  {
   "cell_type": "code",
   "execution_count": 51,
   "id": "2dd1a749",
   "metadata": {},
   "outputs": [
    {
     "data": {
      "text/plain": [
       "'2 index'"
      ]
     },
     "execution_count": 51,
     "metadata": {},
     "output_type": "execute_result"
    }
   ],
   "source": [
    "L.search(20)"
   ]
  },
  {
   "cell_type": "code",
   "execution_count": null,
   "id": "de4eb5e7",
   "metadata": {},
   "outputs": [],
   "source": []
  }
 ],
 "metadata": {
  "kernelspec": {
   "display_name": "Python 3",
   "language": "python",
   "name": "python3"
  },
  "language_info": {
   "codemirror_mode": {
    "name": "ipython",
    "version": 3
   },
   "file_extension": ".py",
   "mimetype": "text/x-python",
   "name": "python",
   "nbconvert_exporter": "python",
   "pygments_lexer": "ipython3",
   "version": "3.13.3"
  }
 },
 "nbformat": 4,
 "nbformat_minor": 5
}
